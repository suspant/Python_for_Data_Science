{
 "cells": [
  {
   "cell_type": "markdown",
   "metadata": {},
   "source": [
    "<h1>Lists</h1>\n",
    "<li>Sequential, Ordered Collection\n"
   ]
  },
  {
   "cell_type": "markdown",
   "metadata": {},
   "source": [
    "<h2>Creating lists</h2>"
   ]
  },
  {
   "cell_type": "code",
   "execution_count": 1,
   "metadata": {},
   "outputs": [
    {
     "name": "stdout",
     "output_type": "stream",
     "text": [
      "[4, 2, 6, 3]\n",
      "[]\n"
     ]
    }
   ],
   "source": [
    "x = [4,2,6,3] #Create a list with values\n",
    "y = list() # Create an empty list\n",
    "y = [] #Create an empty list\n",
    "print(x)\n",
    "print(y)"
   ]
  },
  {
   "cell_type": "markdown",
   "metadata": {},
   "source": [
    "<h3>Adding items to a list</h3>\n"
   ]
  },
  {
   "cell_type": "code",
   "execution_count": 2,
   "metadata": {},
   "outputs": [
    {
     "name": "stdout",
     "output_type": "stream",
     "text": [
      "[]\n",
      "['One']\n",
      "['One', 'Two']\n"
     ]
    }
   ],
   "source": [
    "x=list()\n",
    "print(x)\n",
    "x.append('One') #Adds 'One' to the back of the empty list\n",
    "print(x)\n",
    "x.append('Two') #Adds 'Two' to the back of the list ['One']\n",
    "print(x)"
   ]
  },
  {
   "cell_type": "code",
   "execution_count": 3,
   "metadata": {},
   "outputs": [
    {
     "name": "stdout",
     "output_type": "stream",
     "text": [
      "['Half', 'One', 'Two']\n"
     ]
    }
   ],
   "source": [
    "x.insert(0,'Half') #Inserts 'Half' at location 0. Items will shift to make roomw\n",
    "print(x)"
   ]
  },
  {
   "cell_type": "code",
   "execution_count": 4,
   "metadata": {},
   "outputs": [
    {
     "name": "stdout",
     "output_type": "stream",
     "text": [
      "[1, 2, 3]\n"
     ]
    }
   ],
   "source": [
    "x=list()\n",
    "x.extend([1,2,3]) #Unpacks the list and adds each item to the back of the list\n",
    "print(x)"
   ]
  },
  {
   "cell_type": "markdown",
   "metadata": {},
   "source": [
    "<h3>Indexing and slicing</h3>"
   ]
  },
  {
   "cell_type": "code",
   "execution_count": 5,
   "metadata": {},
   "outputs": [
    {
     "name": "stdout",
     "output_type": "stream",
     "text": [
      "8\n",
      "5\n",
      "[2, 5, 3]\n",
      "32\n",
      "[32, 67, 5, 3, 5, 2, 7, 1]\n"
     ]
    }
   ],
   "source": [
    "x=[1,7,2,5,3,5,67,32]\n",
    "print(len(x))\n",
    "print(x[3])\n",
    "print(x[2:5])\n",
    "print(x[-1])\n",
    "print(x[::-1])"
   ]
  },
  {
   "cell_type": "markdown",
   "metadata": {},
   "source": [
    "<h3>Removing items from a list</h3>"
   ]
  },
  {
   "cell_type": "code",
   "execution_count": 6,
   "metadata": {},
   "outputs": [
    {
     "name": "stdout",
     "output_type": "stream",
     "text": [
      "[1, 7, 2, 5, 3, 5, 67]\n",
      "[1, 7, 2, 3, 5, 67]\n",
      "[1, 2, 3, 5, 67]\n"
     ]
    }
   ],
   "source": [
    "x=[1,7,2,5,3,5,67,32]\n",
    "x.pop() #Removes the last element from a list\n",
    "print(x)\n",
    "x.pop(3) #Removes element at item 3 from a list\n",
    "print(x)\n",
    "x.remove(7) #Removes the first 7 from the list\n",
    "print(x)"
   ]
  },
  {
   "cell_type": "markdown",
   "metadata": {},
   "source": [
    "<h3>Anything you want to remove must be in the list or the location must be inside the list</h3>"
   ]
  },
  {
   "cell_type": "code",
   "execution_count": 8,
   "metadata": {},
   "outputs": [
    {
     "ename": "ValueError",
     "evalue": "list.remove(x): x not in list",
     "output_type": "error",
     "traceback": [
      "\u001b[0;31m---------------------------------------------------------------------------\u001b[0m",
      "\u001b[0;31mValueError\u001b[0m                                Traceback (most recent call last)",
      "\u001b[0;32m<ipython-input-8-2daf0cd7820a>\u001b[0m in \u001b[0;36m<module>\u001b[0;34m()\u001b[0m\n\u001b[0;32m----> 1\u001b[0;31m \u001b[0mx\u001b[0m\u001b[0;34m.\u001b[0m\u001b[0mremove\u001b[0m\u001b[0;34m(\u001b[0m\u001b[0;36m20\u001b[0m\u001b[0;34m)\u001b[0m\u001b[0;34m\u001b[0m\u001b[0m\n\u001b[0m\u001b[1;32m      2\u001b[0m \u001b[0mprint\u001b[0m\u001b[0;34m(\u001b[0m\u001b[0mx\u001b[0m\u001b[0;34m)\u001b[0m\u001b[0;34m\u001b[0m\u001b[0m\n",
      "\u001b[0;31mValueError\u001b[0m: list.remove(x): x not in list"
     ]
    }
   ],
   "source": [
    "x.remove(20)\n",
    "print(x)"
   ]
  },
  {
   "cell_type": "markdown",
   "metadata": {},
   "source": [
    "<h2>Mutablility of lists</h2>"
   ]
  },
  {
   "cell_type": "code",
   "execution_count": 9,
   "metadata": {},
   "outputs": [
    {
     "name": "stdout",
     "output_type": "stream",
     "text": [
      "[1, ['a', 'b'], 3]\n",
      "['a', 'b']\n",
      "['a', 4]\n"
     ]
    }
   ],
   "source": [
    "y=['a','b']\n",
    "x = [1,y,3]\n",
    "print(x)\n",
    "print(y)\n",
    "y[1] = 4\n",
    "print(y)"
   ]
  },
  {
   "cell_type": "code",
   "execution_count": 10,
   "metadata": {},
   "outputs": [
    {
     "name": "stdout",
     "output_type": "stream",
     "text": [
      "[1, ['a', 4], 3]\n"
     ]
    }
   ],
   "source": [
    "print(x)"
   ]
  },
  {
   "cell_type": "code",
   "execution_count": 11,
   "metadata": {},
   "outputs": [
    {
     "name": "stdout",
     "output_type": "stream",
     "text": [
      "Hello 140539522893168\n",
      "Hello You! 140539523103152\n",
      "['Hello'] 140539523598792\n",
      "['Hello', 'You!'] 140539523598792\n"
     ]
    }
   ],
   "source": [
    "x=\"Hello\"\n",
    "print(x,id(x))\n",
    "x+=\" You!\"\n",
    "print(x,id(x)) #x is not the same object it was\n",
    "y=[\"Hello\"]\n",
    "print(y,id(y))\n",
    "y+=[\"You!\"] \n",
    "print(y,id(y)) #y is still the same object. Lists are mutable. Strings are immutable\n"
   ]
  },
  {
   "cell_type": "code",
   "execution_count": 14,
   "metadata": {
    "collapsed": true
   },
   "outputs": [],
   "source": [
    "def eggs(item,total=0):\n",
    "    total+=item\n",
    "    return total\n",
    "\n",
    "\n",
    "def spam(elem,some_list=[]):\n",
    "    some_list.append(elem)\n",
    "    return some_list\n"
   ]
  },
  {
   "cell_type": "code",
   "execution_count": 15,
   "metadata": {},
   "outputs": [
    {
     "name": "stdout",
     "output_type": "stream",
     "text": [
      "1\n",
      "2\n",
      "[1]\n",
      "[1, 2]\n"
     ]
    }
   ],
   "source": [
    "print(eggs(1))\n",
    "print(eggs(2))\n",
    "\n",
    "print(spam(1))\n",
    "print(spam(2))"
   ]
  },
  {
   "cell_type": "markdown",
   "metadata": {},
   "source": [
    "<h1>Iteration</h1>"
   ]
  },
  {
   "cell_type": "markdown",
   "metadata": {},
   "source": [
    "<h2>Range iteration</h2>"
   ]
  },
  {
   "cell_type": "code",
   "execution_count": 16,
   "metadata": {
    "scrolled": true
   },
   "outputs": [
    {
     "name": "stdout",
     "output_type": "stream",
     "text": [
      "1\n",
      "7\n",
      "2\n",
      "5\n",
      "3\n",
      "5\n",
      "67\n",
      "32\n"
     ]
    }
   ],
   "source": [
    "#The for loop creates a new variable (e.g., index below)\n",
    "#range(len(x)) generates values from 0 to len(x) \n",
    "x=[1,7,2,5,3,5,67,32]\n",
    "for index in range(len(x)):\n",
    "    print(x[index])"
   ]
  },
  {
   "cell_type": "code",
   "execution_count": 17,
   "metadata": {},
   "outputs": [
    {
     "data": {
      "text/plain": [
       "[0, 1, 2, 3, 4, 5, 6, 7]"
      ]
     },
     "execution_count": 17,
     "metadata": {},
     "output_type": "execute_result"
    }
   ],
   "source": [
    "list(range(len(x)))"
   ]
  },
  {
   "cell_type": "markdown",
   "metadata": {},
   "source": [
    "<h3>List element iteration</h3>"
   ]
  },
  {
   "cell_type": "code",
   "execution_count": 18,
   "metadata": {},
   "outputs": [
    {
     "name": "stdout",
     "output_type": "stream",
     "text": [
      "1\n",
      "7\n",
      "2\n",
      "5\n",
      "3\n",
      "5\n",
      "67\n",
      "32\n"
     ]
    }
   ],
   "source": [
    "x=[1,7,2,5,3,5,67,32]\n",
    "for element in x: #The for draws elements - sequentially - from the list x and uses the variable \"element\" to store values\n",
    "    print(element)"
   ]
  },
  {
   "cell_type": "markdown",
   "metadata": {},
   "source": [
    "<h1>Dictionaries</h1>"
   ]
  },
  {
   "cell_type": "code",
   "execution_count": 23,
   "metadata": {
    "collapsed": true
   },
   "outputs": [],
   "source": [
    "mktcaps = {'AAPL':538.7,'GOOG':68.7,'IONS':4.6}\n"
   ]
  },
  {
   "cell_type": "code",
   "execution_count": 24,
   "metadata": {},
   "outputs": [
    {
     "data": {
      "text/plain": [
       "538.7"
      ]
     },
     "execution_count": 24,
     "metadata": {},
     "output_type": "execute_result"
    }
   ],
   "source": [
    "mktcaps['AAPL'] #Returns the value associated with the key \"AAPL\""
   ]
  },
  {
   "cell_type": "code",
   "execution_count": 25,
   "metadata": {},
   "outputs": [
    {
     "ename": "KeyError",
     "evalue": "'GS'",
     "output_type": "error",
     "traceback": [
      "\u001b[0;31m---------------------------------------------------------------------------\u001b[0m",
      "\u001b[0;31mKeyError\u001b[0m                                  Traceback (most recent call last)",
      "\u001b[0;32m<ipython-input-25-40312c94d4cd>\u001b[0m in \u001b[0;36m<module>\u001b[0;34m()\u001b[0m\n\u001b[0;32m----> 1\u001b[0;31m \u001b[0mmktcaps\u001b[0m\u001b[0;34m[\u001b[0m\u001b[0;34m'GS'\u001b[0m\u001b[0;34m]\u001b[0m \u001b[0;31m#Error because GS is not in mktcaps\u001b[0m\u001b[0;34m\u001b[0m\u001b[0m\n\u001b[0m",
      "\u001b[0;31mKeyError\u001b[0m: 'GS'"
     ]
    }
   ],
   "source": [
    "mktcaps['GS'] #Error because GS is not in mktcaps"
   ]
  },
  {
   "cell_type": "code",
   "execution_count": 26,
   "metadata": {},
   "outputs": [],
   "source": [
    "mktcaps.get('GS') #Returns None because GS is not in mktcaps"
   ]
  },
  {
   "cell_type": "code",
   "execution_count": 27,
   "metadata": {},
   "outputs": [
    {
     "name": "stdout",
     "output_type": "stream",
     "text": [
      "{'GOOG': 68.7, 'IONS': 4.6, 'AAPL': 538.7, 'GS': 88.65}\n"
     ]
    }
   ],
   "source": [
    "mktcaps['GS'] = 88.65 #Adds GS to the dictionary\n",
    "print(mktcaps) "
   ]
  },
  {
   "cell_type": "code",
   "execution_count": 28,
   "metadata": {},
   "outputs": [
    {
     "name": "stdout",
     "output_type": "stream",
     "text": [
      "{'IONS': 4.6, 'AAPL': 538.7, 'GS': 88.65}\n"
     ]
    }
   ],
   "source": [
    "del(mktcaps['GOOG']) #Removes GOOG from mktcaps\n",
    "print(mktcaps)"
   ]
  },
  {
   "cell_type": "code",
   "execution_count": 29,
   "metadata": {},
   "outputs": [
    {
     "data": {
      "text/plain": [
       "dict_keys(['IONS', 'AAPL', 'GS'])"
      ]
     },
     "execution_count": 29,
     "metadata": {},
     "output_type": "execute_result"
    }
   ],
   "source": [
    "mktcaps.keys() #Returns all the keys"
   ]
  },
  {
   "cell_type": "code",
   "execution_count": 30,
   "metadata": {},
   "outputs": [
    {
     "data": {
      "text/plain": [
       "dict_values([4.6, 538.7, 88.65])"
      ]
     },
     "execution_count": 30,
     "metadata": {},
     "output_type": "execute_result"
    }
   ],
   "source": [
    "mktcaps.values() #Returns all the values"
   ]
  }
 ],
 "metadata": {
  "kernelspec": {
   "display_name": "Python 3",
   "language": "python",
   "name": "python3"
  },
  "language_info": {
   "codemirror_mode": {
    "name": "ipython",
    "version": 3
   },
   "file_extension": ".py",
   "mimetype": "text/x-python",
   "name": "python",
   "nbconvert_exporter": "python",
   "pygments_lexer": "ipython3",
   "version": "3.5.2"
  }
 },
 "nbformat": 4,
 "nbformat_minor": 2
}
