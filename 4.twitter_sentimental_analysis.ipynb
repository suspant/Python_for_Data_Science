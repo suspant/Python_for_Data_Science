{
 "cells": [
  {
   "cell_type": "markdown",
   "metadata": {},
   "source": [
    "Twitter Sentiment Analysis - Learn Python for Data Science #2"
   ]
  },
  {
   "cell_type": "code",
   "execution_count": 6,
   "metadata": {},
   "outputs": [
    {
     "name": "stdout",
     "output_type": "stream",
     "text": [
      "Requirement already satisfied: twitter in /home/susma/anaconda3/lib/python3.6/site-packages (1.18.0)\r\n"
     ]
    }
   ],
   "source": [
    "!pip install twitter"
   ]
  },
  {
   "cell_type": "code",
   "execution_count": 5,
   "metadata": {},
   "outputs": [
    {
     "name": "stdout",
     "output_type": "stream",
     "text": [
      "\u001b[33mCache entry deserialization failed, entry ignored\u001b[0m\n",
      "Collecting pip\n",
      "  Using cached https://files.pythonhosted.org/packages/0f/74/ecd13431bcc456ed390b44c8a6e917c1820365cbebcb6a8974d1cd045ab4/pip-10.0.1-py2.py3-none-any.whl\n",
      "Installing collected packages: pip\n",
      "  Found existing installation: pip 9.0.1\n",
      "    Uninstalling pip-9.0.1:\n",
      "      Successfully uninstalled pip-9.0.1\n",
      "Successfully installed pip-10.0.1\n"
     ]
    }
   ],
   "source": [
    "!pip install --upgrade pip"
   ]
  },
  {
   "cell_type": "code",
   "execution_count": 7,
   "metadata": {},
   "outputs": [
    {
     "name": "stdout",
     "output_type": "stream",
     "text": [
      "Requirement already satisfied: textblob in /home/susma/anaconda3/lib/python3.6/site-packages (0.15.1)\n",
      "Requirement already satisfied: nltk>=3.1 in /home/susma/anaconda3/lib/python3.6/site-packages (from textblob) (3.2.4)\n",
      "Requirement already satisfied: six in /home/susma/anaconda3/lib/python3.6/site-packages (from nltk>=3.1->textblob) (1.11.0)\n"
     ]
    }
   ],
   "source": [
    "!pip install textblob"
   ]
  },
  {
   "cell_type": "code",
   "execution_count": 8,
   "metadata": {},
   "outputs": [
    {
     "name": "stdout",
     "output_type": "stream",
     "text": [
      "Requirement already satisfied: tweepy in /home/susma/anaconda3/lib/python3.6/site-packages (3.6.0)\n",
      "Requirement already satisfied: six>=1.10.0 in /home/susma/anaconda3/lib/python3.6/site-packages (from tweepy) (1.11.0)\n",
      "Requirement already satisfied: PySocks>=1.5.7 in /home/susma/anaconda3/lib/python3.6/site-packages (from tweepy) (1.6.7)\n",
      "Requirement already satisfied: requests-oauthlib>=0.7.0 in /home/susma/anaconda3/lib/python3.6/site-packages (from tweepy) (1.0.0)\n",
      "Requirement already satisfied: requests>=2.11.1 in /home/susma/anaconda3/lib/python3.6/site-packages (from tweepy) (2.18.4)\n",
      "Requirement already satisfied: oauthlib>=0.6.2 in /home/susma/anaconda3/lib/python3.6/site-packages (from requests-oauthlib>=0.7.0->tweepy) (2.1.0)\n",
      "Requirement already satisfied: chardet<3.1.0,>=3.0.2 in /home/susma/anaconda3/lib/python3.6/site-packages (from requests>=2.11.1->tweepy) (3.0.4)\n",
      "Requirement already satisfied: idna<2.7,>=2.5 in /home/susma/anaconda3/lib/python3.6/site-packages (from requests>=2.11.1->tweepy) (2.6)\n",
      "Requirement already satisfied: urllib3<1.23,>=1.21.1 in /home/susma/anaconda3/lib/python3.6/site-packages (from requests>=2.11.1->tweepy) (1.22)\n",
      "Requirement already satisfied: certifi>=2017.4.17 in /home/susma/anaconda3/lib/python3.6/site-packages (from requests>=2.11.1->tweepy) (2018.4.16)\n"
     ]
    }
   ],
   "source": [
    "!pip install tweepy"
   ]
  },
  {
   "cell_type": "code",
   "execution_count": 4,
   "metadata": {
    "collapsed": true
   },
   "outputs": [],
   "source": [
    "#Import package\n",
    "import tweepy\n",
    "import twitter\n",
    "from textblob import TextBlob\n"
   ]
  },
  {
   "cell_type": "code",
   "execution_count": 5,
   "metadata": {},
   "outputs": [
    {
     "name": "stdout",
     "output_type": "stream",
     "text": [
      "showing info https://raw.githubusercontent.com/nltk/nltk_data/gh-pages/index.xml\n"
     ]
    },
    {
     "data": {
      "text/plain": [
       "True"
      ]
     },
     "execution_count": 5,
     "metadata": {},
     "output_type": "execute_result"
    }
   ],
   "source": [
    " import nltk\n",
    " nltk.download()   "
   ]
  },
  {
   "cell_type": "code",
   "execution_count": 18,
   "metadata": {},
   "outputs": [
    {
     "data": {
      "text/plain": [
       "[('Ram', 'NNP'),\n",
       " ('is', 'VBZ'),\n",
       " ('angry', 'JJ'),\n",
       " ('that', 'IN'),\n",
       " ('he', 'PRP'),\n",
       " ('never', 'RB'),\n",
       " ('gets', 'VBZ'),\n",
       " ('good', 'JJ'),\n",
       " ('matches', 'NNS'),\n",
       " ('on', 'IN'),\n",
       " ('tinder', 'NN')]"
      ]
     },
     "execution_count": 18,
     "metadata": {},
     "output_type": "execute_result"
    }
   ],
   "source": [
    "wiki = TextBlob(\"Ram is angry that he never gets good matches on tinder\")\n",
    "wiki.tags"
   ]
  },
  {
   "cell_type": "code",
   "execution_count": 1,
   "metadata": {},
   "outputs": [
    {
     "ename": "NameError",
     "evalue": "name 'wiki' is not defined",
     "output_type": "error",
     "traceback": [
      "\u001b[0;31m---------------------------------------------------------------------------\u001b[0m",
      "\u001b[0;31mNameError\u001b[0m                                 Traceback (most recent call last)",
      "\u001b[0;32m<ipython-input-1-3add976a87b4>\u001b[0m in \u001b[0;36m<module>\u001b[0;34m()\u001b[0m\n\u001b[0;32m----> 1\u001b[0;31m \u001b[0mwiki\u001b[0m\u001b[0;34m.\u001b[0m\u001b[0mwords\u001b[0m\u001b[0;34m\u001b[0m\u001b[0m\n\u001b[0m",
      "\u001b[0;31mNameError\u001b[0m: name 'wiki' is not defined"
     ]
    }
   ],
   "source": [
    "wiki.words"
   ]
  },
  {
   "cell_type": "code",
   "execution_count": 20,
   "metadata": {},
   "outputs": [
    {
     "data": {
      "text/plain": [
       "0.09999999999999998"
      ]
     },
     "execution_count": 20,
     "metadata": {},
     "output_type": "execute_result"
    }
   ],
   "source": [
    "wiki.sentiment.polarity"
   ]
  },
  {
   "cell_type": "markdown",
   "metadata": {},
   "source": [
    "## Tweet Analysis \n",
    "\n",
    "1. Sentiment analysis- understanding and extracting human feeling for Data.\n",
    "2. An API lets you access an apps functionality from your code.\n",
    "3. TextBlob is awesome for NLP tasks"
   ]
  },
  {
   "cell_type": "markdown",
   "metadata": {},
   "source": [
    "Twitter API Access\n",
    "Twitter implements OAuth 1.0A as its standard authentication mechanism, and in order to use it to make requests to Twitter's API, you'll need to go to https://dev.twitter.com/apps and create a sample application.\n",
    "Choose any name for your application, write a description and use http://google.com for the website.\n",
    "Under Key and Access Tokens, there are four primary identifiers you'll need to note for an OAuth 1.0A workflow:\n",
    "consumer key,\n",
    "consumer secret,\n",
    "access token, and\n",
    "access token secret (Click on Create Access Token to create those).\n",
    "Note that you will need an ordinary Twitter account in order to login, create an app, and get these credentials."
   ]
  },
  {
   "cell_type": "code",
   "execution_count": 6,
   "metadata": {
    "collapsed": true
   },
   "outputs": [],
   "source": [
    "consumer_key = 'QEc9fR86BkQy8TO1HXC16QllG'\n",
    "consumer_secret = 'WfAW5y2FnK5Aio3ZRgeZqRejLqzLofeDFHggi73aPAdXCFXMn3'\n",
    "acess_token = '273210617-uJ0ryvT1UuuFUZYi9rSvNTRLpVccOJrdeo2wORgA'\n",
    "acess_token_secret = 'Vf5DfGTqmrx2aHpci45ORtuW9hTUGmLQpc6JVzMXvR9hv'"
   ]
  },
  {
   "cell_type": "code",
   "execution_count": 7,
   "metadata": {},
   "outputs": [],
   "source": [
    "auth = tweepy.OAuthHandler(consumer_key, consumer_secret)\n",
    "auth.set_access_token(acess_token, acess_token_secret)"
   ]
  },
  {
   "cell_type": "code",
   "execution_count": 9,
   "metadata": {},
   "outputs": [
    {
     "name": "stdout",
     "output_type": "stream",
     "text": [
      "RT @mikeybbq: My take on #HelsinkiSummit: The timing is eerie: it occurs almost 4yrs to the day when MH17 was hit by a missile over E. Ukra…\n",
      "Sentiment(polarity=-0.5, subjectivity=1.0)\n",
      "RT @JillDLawrence: This seemed so un-American to me, even more than usual, and I wondered if I was overreacting. Apparently not. Here's @Go…\n",
      "Sentiment(polarity=0.075, subjectivity=0.3666666666666667)\n",
      "RT @krassenstein: Just how Hated is President Trump by non-Americans?\n",
      "\n",
      "The UK says that yesterday's protest of Donald Trump was the largest…\n",
      "Sentiment(polarity=-0.9, subjectivity=0.7)\n",
      "RT @AdventurerAlan: Rob Reiner To America: Demand That Trump Meet With Robert Mueller #morningjoe ⁦@JoeNBC⁩ ⁦@morningmika⁩ ⁦@Morning_Joe⁩ ⁦…\n",
      "Sentiment(polarity=0.0, subjectivity=0.0)\n",
      "RT @stucam7771: Piers Morgan is a personal friend of Donald Trump.  He's saying here that the main Trump haters are in the entertainment in…\n",
      "Sentiment(polarity=0.08333333333333333, subjectivity=0.31666666666666665)\n",
      "... meeting the Finnish presidential couple, US President Donald Trump thanked them both for their warm reception i… https://t.co/xUn4H39uXr\n",
      "Sentiment(polarity=0.6, subjectivity=0.6)\n",
      "RT @RealJack: Dear mainstream media,\n",
      "\n",
      "I’m a little more concerned about the FBI, DOJ, Obama Admin &amp; CIA’s clear mission to collude to stop…\n",
      "Sentiment(polarity=0.1375, subjectivity=0.4611111111111111)\n",
      "RT @IanDunt: Best possible argument for the EU https://t.co/4Y9RJ6prbZ\n",
      "Sentiment(polarity=0.5, subjectivity=0.65)\n",
      "Donald Trump blames 'US stupidity' for poor relations with Russia ahead of summit with Vladimir Putin https://t.co/2xZ8ojBmYu\n",
      "Sentiment(polarity=-0.5, subjectivity=0.8)\n",
      "@CNN There is no Discord with Russia because Putin put Donald Trump as our president. They stole our votes the peop… https://t.co/guKTq7llz5\n",
      "Sentiment(polarity=0.0, subjectivity=0.0)\n",
      "@FoxNews @DonaldJTrumpJr @kimguilfoyle @realDonaldTrump @NextRevFNC Truth is an unknown concept to Lying Donald J T… https://t.co/qXRPYI9wkp\n",
      "Sentiment(polarity=-0.1, subjectivity=0.6)\n",
      "RT @ProudResister: The European Union is NOT a “foe.”\n",
      "\n",
      "African nations are NOT “shitholes.”\n",
      "\n",
      "Mexicans are NOT “rapists &amp; drug dealers.”\n",
      "\n",
      "Vl…\n",
      "Sentiment(polarity=0.0, subjectivity=0.0)\n",
      "RT @ananavarro: The 71 year-old man baby, loathed the world over, called the European Union a foe.\n",
      "I beg to differ. The United States’ bigg…\n",
      "Sentiment(polarity=0.0, subjectivity=0.0)\n",
      "RT @business: Citi says Donald Trump has been \"brutal\" on trade but expects deals by midterm elections https://t.co/CEs6rN5hWV https://t.co…\n",
      "Sentiment(polarity=-0.875, subjectivity=1.0)\n",
      "RT @australian: Putin arrives in Helsinki https://t.co/UMdQlK8PzP\n",
      "Sentiment(polarity=0.0, subjectivity=0.0)\n"
     ]
    }
   ],
   "source": [
    "api = tweepy.API(auth)\n",
    "public_tweety = api.search('Donald Trump')\n",
    "for tweet in public_tweety:\n",
    "        print(tweet.text)\n",
    "        analysis = TextBlob(tweet.text)\n",
    "        print(analysis.sentiment)"
   ]
  },
  {
   "cell_type": "code",
   "execution_count": null,
   "metadata": {
    "collapsed": true
   },
   "outputs": [],
   "source": []
  }
 ],
 "metadata": {
  "kernelspec": {
   "display_name": "Python 3",
   "language": "python",
   "name": "python3"
  },
  "language_info": {
   "codemirror_mode": {
    "name": "ipython",
    "version": 3
   },
   "file_extension": ".py",
   "mimetype": "text/x-python",
   "name": "python",
   "nbconvert_exporter": "python",
   "pygments_lexer": "ipython3",
   "version": "3.6.3"
  }
 },
 "nbformat": 4,
 "nbformat_minor": 2
}
