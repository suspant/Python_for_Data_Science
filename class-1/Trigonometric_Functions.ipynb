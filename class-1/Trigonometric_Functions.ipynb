{
 "cells": [
  {
   "cell_type": "markdown",
   "metadata": {},
   "source": [
    "NumPy has standard trigonometric functions which return trigonometric ratios for a given angle in radians."
   ]
  },
  {
   "cell_type": "code",
   "execution_count": 1,
   "metadata": {},
   "outputs": [
    {
     "name": "stdout",
     "output_type": "stream",
     "text": [
      "Sine of different angles:\n",
      "[ 0.          0.5         0.70710678  0.8660254   1.        ]\n",
      "\n",
      "\n",
      "Cosine values for angles in array:\n",
      "[  1.00000000e+00   8.66025404e-01   7.07106781e-01   5.00000000e-01\n",
      "   6.12323400e-17]\n",
      "\n",
      "\n",
      "Tangent values for given angles:\n",
      "[  0.00000000e+00   5.77350269e-01   1.00000000e+00   1.73205081e+00\n",
      "   1.63312394e+16]\n"
     ]
    }
   ],
   "source": [
    "import numpy as np \n",
    "a = np.array([0,30,45,60,90]) \n",
    "\n",
    "print('Sine of different angles:') \n",
    "# Convert to radians by multiplying with pi/180 \n",
    "print (np.sin(a*np.pi/180)) \n",
    "print ('\\n')  \n",
    "\n",
    "print ('Cosine values for angles in array:') \n",
    "print (np.cos(a*np.pi/180)) \n",
    "print ('\\n')  \n",
    "\n",
    "print ('Tangent values for given angles:') \n",
    "print (np.tan(a*np.pi/180)) "
   ]
  },
  {
   "cell_type": "markdown",
   "metadata": {},
   "source": [
    "<b>arcsin, arcos, and arctan</b> functions return the trigonometric inverse of sin, cos, and tan of the given angle. The result of these functions can be verified by numpy.degrees() function by converting radians to degrees."
   ]
  },
  {
   "cell_type": "code",
   "execution_count": 6,
   "metadata": {},
   "outputs": [
    {
     "name": "stdout",
     "output_type": "stream",
     "text": [
      "Array containing sine values:\n",
      "[ 0.          0.5         0.70710678  0.8660254   1.        ]\n",
      "\n",
      "\n",
      "Compute sine inverse of angles. Returned values are in radians.\n",
      "[ 0.          0.52359878  0.78539816  1.04719755  1.57079633]\n",
      "\n",
      "\n",
      "Check result by converting to degrees:\n",
      "[  0.  30.  45.  60.  90.]\n",
      "\n",
      "\n",
      "arccos and arctan functions behave similarly:\n",
      "[  1.00000000e+00   8.66025404e-01   7.07106781e-01   5.00000000e-01\n",
      "   6.12323400e-17]\n",
      "\n",
      "\n",
      "Inverse of cos:\n",
      "[ 0.          0.52359878  0.78539816  1.04719755  1.57079633]\n",
      "\n",
      "\n",
      "In degrees:\n",
      "[  0.  30.  45.  60.  90.]\n",
      "\n",
      "\n",
      "Tan function:\n",
      "[  0.00000000e+00   5.77350269e-01   1.00000000e+00   1.73205081e+00\n",
      "   1.63312394e+16]\n",
      "\n",
      "\n",
      "Inverse of tan:\n",
      "[ 0.          0.52359878  0.78539816  1.04719755  1.57079633]\n",
      "\n",
      "\n",
      "In degrees:\n",
      "[  0.  30.  45.  60.  90.]\n"
     ]
    }
   ],
   "source": [
    "import numpy as np \n",
    "a = np.array([0,30,45,60,90]) \n",
    "\n",
    "print('Array containing sine values:') \n",
    "sin = np.sin(a*np.pi/180) \n",
    "print (sin) \n",
    "print ('\\n')  \n",
    "\n",
    "print ('Compute sine inverse of angles. Returned values are in radians.') \n",
    "inv = np.arcsin(sin) \n",
    "print (inv )\n",
    "print ('\\n')  \n",
    "\n",
    "print ('Check result by converting to degrees:')\n",
    "print (np.degrees(inv)) \n",
    "print ('\\n')  \n",
    "\n",
    "print ('arccos and arctan functions behave similarly:') \n",
    "cos = np.cos(a*np.pi/180) \n",
    "print (cos) \n",
    "print ('\\n')  \n",
    "\n",
    "print ('Inverse of cos:') \n",
    "inv = np.arccos(cos) \n",
    "print (inv) \n",
    "print ('\\n')  \n",
    "\n",
    "print ('In degrees:') \n",
    "print (np.degrees(inv)) \n",
    "print ('\\n') \n",
    "\n",
    "print ('Tan function:') \n",
    "tan = np.tan(a*np.pi/180) \n",
    "print (tan)\n",
    "print ('\\n')  \n",
    "\n",
    "print ('Inverse of tan:') \n",
    "inv = np.arctan(tan) \n",
    "print (inv) \n",
    "print ('\\n')  \n",
    "\n",
    "print ('In degrees:') \n",
    "print (np.degrees(inv)) "
   ]
  },
  {
   "cell_type": "markdown",
   "metadata": {},
   "source": [
    "<b>Functions for Rounding</b>\n",
    "\n",
    "numpy.around()\n",
    "\n",
    "This is a function that returns the value rounded to the desired precision. The function takes the following parameters."
   ]
  },
  {
   "cell_type": "code",
   "execution_count": 4,
   "metadata": {},
   "outputs": [
    {
     "name": "stdout",
     "output_type": "stream",
     "text": [
      "Original array:\n",
      "[   1.       5.     125.       0.567   25.532]\n",
      "\n",
      "\n",
      "After rounding:\n",
      "[   1.    5.  125.    1.   26.]\n",
      "[   1.     5.   125.     0.6   25.5]\n",
      "[   0.    0.  120.    0.   30.]\n"
     ]
    }
   ],
   "source": [
    "import numpy as np \n",
    "a = np.array([1.0,5, 125, 0.567, 25.532]) \n",
    "\n",
    "print ('Original array:') \n",
    "print (a) \n",
    "print ('\\n')  \n",
    "\n",
    "print ('After rounding:') \n",
    "print (np.around(a)) \n",
    "print (np.around(a, decimals = 1)) \n",
    "print (np.around(a, decimals = -1))"
   ]
  },
  {
   "cell_type": "markdown",
   "metadata": {},
   "source": [
    "numpy.floor()\n",
    "\n",
    "This function returns the largest integer not greater than the input parameter. The floor of the scalar x is the largest integer i, such that i <= x. Note that in Python, flooring always is rounded away from 0."
   ]
  },
  {
   "cell_type": "code",
   "execution_count": 5,
   "metadata": {},
   "outputs": [
    {
     "name": "stdout",
     "output_type": "stream",
     "text": [
      "The given array:\n",
      "[ -1.7   1.5  -0.2   0.6  10. ]\n",
      "\n",
      "\n",
      "The modified array:\n",
      "[ -2.   1.  -1.   0.  10.]\n"
     ]
    }
   ],
   "source": [
    "import numpy as np \n",
    "a = np.array([-1.7, 1.5, -0.2, 0.6, 10]) \n",
    "\n",
    "print ('The given array:') \n",
    "print (a) \n",
    "print ('\\n') \n",
    "\n",
    "print ('The modified array:') \n",
    "print (np.floor(a))"
   ]
  },
  {
   "cell_type": "markdown",
   "metadata": {},
   "source": [
    "numpy.ceil()\n",
    "\n",
    "The ceil() function returns the ceiling of an input value, i.e. the ceil of the scalar x is the smallest integer i, such that i >= x"
   ]
  },
  {
   "cell_type": "code",
   "execution_count": 8,
   "metadata": {},
   "outputs": [
    {
     "name": "stdout",
     "output_type": "stream",
     "text": [
      "The given array:\n",
      "[ -1.7   1.5  -0.2   0.6  10. ]\n",
      "\n",
      "\n",
      "The modified array:\n",
      "[ -1.   2.  -0.   1.  10.]\n"
     ]
    }
   ],
   "source": [
    "import numpy as np \n",
    "a = np.array([-1.7, 1.5, -0.2, 0.6, 10]) \n",
    "\n",
    "print ('The given array:') \n",
    "print (a) \n",
    "print ('\\n')  \n",
    "\n",
    "print ('The modified array:') \n",
    "print (np.ceil(a))"
   ]
  },
  {
   "cell_type": "code",
   "execution_count": null,
   "metadata": {
    "collapsed": true
   },
   "outputs": [],
   "source": []
  }
 ],
 "metadata": {
  "kernelspec": {
   "display_name": "Python 3",
   "language": "python",
   "name": "python3"
  },
  "language_info": {
   "codemirror_mode": {
    "name": "ipython",
    "version": 3
   },
   "file_extension": ".py",
   "mimetype": "text/x-python",
   "name": "python",
   "nbconvert_exporter": "python",
   "pygments_lexer": "ipython3",
   "version": "3.6.3"
  }
 },
 "nbformat": 4,
 "nbformat_minor": 1
}
