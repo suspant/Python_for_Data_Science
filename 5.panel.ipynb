{
 "cells": [
  {
   "cell_type": "markdown",
   "metadata": {},
   "source": [
    "A panel is a 3D container of data. The term Panel data is derived from econometrics and is partially responsible for the name pandas − pan(el)-da(ta)-s.\n",
    "\n",
    "The names for the 3 axes are intended to give some semantic meaning to describing operations involving panel data. They are −\n",
    "\n",
    "    items − axis 0, each item corresponds to a DataFrame contained inside.\n",
    "\n",
    "    major_axis − axis 1, it is the index (rows) of each of the DataFrames.\n",
    "\n",
    "    minor_axis − axis 2, it is the columns of each of the DataFrames.\n",
    "    \n",
    "    pandas.Panel(data, items, major_axis, minor_axis, dtype, copy)\n"
   ]
  },
  {
   "cell_type": "markdown",
   "metadata": {},
   "source": [
    "### Example"
   ]
  },
  {
   "cell_type": "code",
   "execution_count": 2,
   "metadata": {},
   "outputs": [
    {
     "name": "stdout",
     "output_type": "stream",
     "text": [
      "[[[ 0.51869131  0.32288513  0.53325614  0.9894172   0.42708328]\n",
      "  [ 0.70150392  0.11208639  0.43596537  0.14450727  0.05862118]\n",
      "  [ 0.27138573  0.56459957  0.07082793  0.62300985  0.58746552]\n",
      "  [ 0.80889552  0.25876254  0.17044511  0.20225976  0.4842641 ]\n",
      "  [ 0.96794238  0.05915531  0.77550611  0.95324787  0.6101206 ]\n",
      "  [ 0.45138237  0.60402179  0.21397708  0.72811711  0.15291434]]\n",
      "\n",
      " [[ 0.94305128  0.22009242  0.67852189  0.85684912  0.95231603]\n",
      "  [ 0.917492    0.27035155  0.34403277  0.25721487  0.65594109]\n",
      "  [ 0.00150582  0.55497244  0.62770699  0.65726485  0.93861208]\n",
      "  [ 0.50202966  0.74035524  0.68099073  0.09074561  0.78820684]\n",
      "  [ 0.95930837  0.96724968  0.58746615  0.68075649  0.0228308 ]\n",
      "  [ 0.65193223  0.20763193  0.13746163  0.88551918  0.74716973]]]\n",
      "<class 'pandas.core.panel.Panel'>\n",
      "Dimensions: 2 (items) x 6 (major_axis) x 5 (minor_axis)\n",
      "Items axis: 0 to 1\n",
      "Major_axis axis: 0 to 5\n",
      "Minor_axis axis: 0 to 4\n"
     ]
    }
   ],
   "source": [
    "# creating an empty panel\n",
    "import pandas as pd\n",
    "import numpy as np\n",
    "\n",
    "data = np.random.rand(2,6,5)\n",
    "print(data)\n",
    "p = pd.Panel(data)\n",
    "print(p)"
   ]
  },
  {
   "cell_type": "code",
   "execution_count": 8,
   "metadata": {},
   "outputs": [
    {
     "name": "stdout",
     "output_type": "stream",
     "text": [
      "{'Item1':           0         1         2         3         4         5\n",
      "0 -0.974394 -0.242364 -0.876109  0.003586  0.701751 -0.403967\n",
      "1 -0.059584  0.979180 -0.063190  0.908342  0.411148 -0.866321\n",
      "2 -0.919357 -2.643367  0.671855 -1.152068 -1.824000 -0.129111\n",
      "3 -1.971417 -0.491467 -0.445279  1.041668 -0.013366  0.915126\n",
      "4  1.414006  0.464044 -0.434745 -0.436013 -0.700476  0.975768, 'Item2':           0         1         2         3         4         5         6\n",
      "0 -0.938769  0.570110 -0.206545  0.678206  1.090052  2.663934 -0.007153\n",
      "1 -0.286763 -1.162049  0.273651 -0.817655  1.082408  1.216307  0.410705\n",
      "2 -0.193216 -0.181595 -0.486881  0.941400  0.021934 -0.490895 -0.420290\n",
      "3  0.268560  0.440370  0.520213 -2.376982 -1.084017 -0.750436 -0.357933\n",
      "4 -0.027551  1.017986  0.171597 -0.532228  0.378057  0.189504  0.684860}\n",
      "\n",
      "\n",
      "<class 'pandas.core.panel.Panel'>\n",
      "Dimensions: 2 (items) x 5 (major_axis) x 7 (minor_axis)\n",
      "Items axis: Item1 to Item2\n",
      "Major_axis axis: 0 to 4\n",
      "Minor_axis axis: 0 to 6\n"
     ]
    }
   ],
   "source": [
    "#From dict of DataFrame Objects\n",
    "#creating an empty panel\n",
    "\n",
    "import pandas as pd\n",
    "import numpy as np\n",
    "\n",
    "data = {'Item1' : pd.DataFrame(np.random.randn(5, 6)), \n",
    "        'Item2' : pd.DataFrame(np.random.randn(5, 7))}\n",
    "\n",
    "print(data)\n",
    "print(\"\\n\")\n",
    "p = pd.Panel(data)\n",
    "print(p)"
   ]
  },
  {
   "cell_type": "code",
   "execution_count": 9,
   "metadata": {},
   "outputs": [
    {
     "name": "stdout",
     "output_type": "stream",
     "text": [
      "<class 'pandas.core.panel.Panel'>\n",
      "Dimensions: 0 (items) x 0 (major_axis) x 0 (minor_axis)\n",
      "Items axis: None\n",
      "Major_axis axis: None\n",
      "Minor_axis axis: None\n"
     ]
    }
   ],
   "source": [
    "#An empty panel can be created using the Panel constructor as follows −\n",
    "\n",
    "#creating an empty panel\n",
    "import pandas as pd\n",
    "p = pd.Panel()\n",
    "print(p)"
   ]
  },
  {
   "cell_type": "code",
   "execution_count": 10,
   "metadata": {},
   "outputs": [
    {
     "name": "stdout",
     "output_type": "stream",
     "text": [
      "      Item1     Item2\n",
      "0 -0.597147  0.869612\n",
      "1  0.542089 -0.448738\n",
      "2 -1.331090       NaN\n"
     ]
    }
   ],
   "source": [
    "#Data can be accessed using the method panel.major_axis(index).\n",
    "\n",
    "# creating an empty panel\n",
    "import pandas as pd\n",
    "import numpy as np\n",
    "data = {'Item1' : pd.DataFrame(np.random.randn(4, 3)), \n",
    "        'Item2' : pd.DataFrame(np.random.randn(4, 2))}\n",
    "p = pd.Panel(data)\n",
    "print(p.major_xs(3))"
   ]
  },
  {
   "cell_type": "code",
   "execution_count": 11,
   "metadata": {},
   "outputs": [
    {
     "name": "stdout",
     "output_type": "stream",
     "text": [
      "      Item1     Item2\n",
      "0 -0.335564 -0.319336\n",
      "1  0.172743 -1.115110\n",
      "2 -0.444918  1.707177\n",
      "3 -1.647715 -2.295055\n"
     ]
    }
   ],
   "source": [
    "#Using minor_axis\n",
    "\n",
    "#Data can be accessed using the method panel.minor_axis(index).\n",
    "\n",
    "# creating an empty panel\n",
    "import pandas as pd\n",
    "import numpy as np\n",
    "data = {'Item1' : pd.DataFrame(np.random.randn(4, 3)), \n",
    "        'Item2' : pd.DataFrame(np.random.randn(4, 2))}\n",
    "p = pd.Panel(data)\n",
    "print (p.minor_xs(0))"
   ]
  },
  {
   "cell_type": "code",
   "execution_count": null,
   "metadata": {
    "collapsed": true
   },
   "outputs": [],
   "source": []
  }
 ],
 "metadata": {
  "kernelspec": {
   "display_name": "Python 3",
   "language": "python",
   "name": "python3"
  },
  "language_info": {
   "codemirror_mode": {
    "name": "ipython",
    "version": 3
   },
   "file_extension": ".py",
   "mimetype": "text/x-python",
   "name": "python",
   "nbconvert_exporter": "python",
   "pygments_lexer": "ipython3",
   "version": "3.6.3"
  }
 },
 "nbformat": 4,
 "nbformat_minor": 1
}
