{
 "cells": [
  {
   "cell_type": "markdown",
   "metadata": {},
   "source": [
    "Recommendation Systems - Learn Python for Data Science #3"
   ]
  },
  {
   "cell_type": "markdown",
   "metadata": {},
   "source": [
    "#1 Recommendation algorithms help us make decisions by learning our preferences\n",
    "#2 Two type of recommendation system- content-bases and collabrative\n",
    "#3 LightFM is grat for getting started with recommendations"
   ]
  },
  {
   "cell_type": "markdown",
   "metadata": {},
   "source": [
    "## Install Dependancy"
   ]
  },
  {
   "cell_type": "code",
   "execution_count": 2,
   "metadata": {},
   "outputs": [
    {
     "name": "stdout",
     "output_type": "stream",
     "text": [
      "Requirement already satisfied: numpy in /home/susma/anaconda3/lib/python3.6/site-packages\r\n"
     ]
    }
   ],
   "source": [
    "!pip install numpy"
   ]
  },
  {
   "cell_type": "code",
   "execution_count": 5,
   "metadata": {},
   "outputs": [
    {
     "name": "stdout",
     "output_type": "stream",
     "text": [
      "Requirement already satisfied: scipy in /home/susma/anaconda3/lib/python3.6/site-packages\r\n"
     ]
    }
   ],
   "source": [
    "!pip install scipy"
   ]
  },
  {
   "cell_type": "code",
   "execution_count": 7,
   "metadata": {},
   "outputs": [
    {
     "name": "stdout",
     "output_type": "stream",
     "text": [
      "Collecting lightning-python\n",
      "  Downloading lightning-python-1.2.1.tar.gz (522kB)\n",
      "\u001b[K    100% |████████████████████████████████| 522kB 460kB/s ta 0:00:01\n",
      "\u001b[?25hRequirement already satisfied: setuptools in /home/susma/anaconda3/lib/python3.6/site-packages/setuptools-27.2.0-py3.6.egg (from lightning-python)\n",
      "Requirement already satisfied: requests in /home/susma/anaconda3/lib/python3.6/site-packages (from lightning-python)\n",
      "Requirement already satisfied: numpy in /home/susma/anaconda3/lib/python3.6/site-packages (from lightning-python)\n",
      "Requirement already satisfied: pytest in /home/susma/anaconda3/lib/python3.6/site-packages (from lightning-python)\n",
      "Requirement already satisfied: matplotlib in /home/susma/anaconda3/lib/python3.6/site-packages (from lightning-python)\n",
      "Requirement already satisfied: six in /home/susma/anaconda3/lib/python3.6/site-packages (from lightning-python)\n",
      "Requirement already satisfied: jinja2 in /home/susma/anaconda3/lib/python3.6/site-packages (from lightning-python)\n",
      "Requirement already satisfied: py>=1.4.29 in /home/susma/anaconda3/lib/python3.6/site-packages (from pytest->lightning-python)\n",
      "Requirement already satisfied: python-dateutil in /home/susma/anaconda3/lib/python3.6/site-packages (from matplotlib->lightning-python)\n",
      "Requirement already satisfied: pytz in /home/susma/anaconda3/lib/python3.6/site-packages (from matplotlib->lightning-python)\n",
      "Requirement already satisfied: cycler>=0.10 in /home/susma/anaconda3/lib/python3.6/site-packages (from matplotlib->lightning-python)\n",
      "Requirement already satisfied: pyparsing!=2.0.4,!=2.1.2,!=2.1.6,>=1.5.6 in /home/susma/anaconda3/lib/python3.6/site-packages (from matplotlib->lightning-python)\n",
      "Requirement already satisfied: MarkupSafe>=0.23 in /home/susma/anaconda3/lib/python3.6/site-packages (from jinja2->lightning-python)\n",
      "Building wheels for collected packages: lightning-python\n",
      "  Running setup.py bdist_wheel for lightning-python ... \u001b[?25ldone\n",
      "\u001b[?25h  Stored in directory: /home/susma/.cache/pip/wheels/07/01/a3/e6e94fcd0a4977c18c62aafb0c423017b59b31591936c434c6\n",
      "Successfully built lightning-python\n",
      "Installing collected packages: lightning-python\n",
      "Successfully installed lightning-python-1.2.1\n"
     ]
    }
   ],
   "source": [
    "!pip install lightning-python"
   ]
  },
  {
   "cell_type": "code",
   "execution_count": 15,
   "metadata": {},
   "outputs": [
    {
     "name": "stdout",
     "output_type": "stream",
     "text": [
      "Collecting lightfm\n",
      "  Using cached lightfm-1.13.tar.gz\n",
      "Collecting numpy (from lightfm)\n",
      "  Downloading numpy-1.13.1-cp35-cp35m-manylinux1_x86_64.whl (16.9MB)\n",
      "\u001b[K    100% |████████████████████████████████| 16.9MB 67kB/s eta 0:00:011\n",
      "\u001b[?25hCollecting scipy>=0.17.0 (from lightfm)\n",
      "  Downloading scipy-0.19.1-cp35-cp35m-manylinux1_x86_64.whl (47.9MB)\n",
      "\u001b[K    100% |████████████████████████████████| 47.9MB 25kB/s eta 0:00:011\n",
      "\u001b[?25hCollecting requests (from lightfm)\n",
      "  Downloading requests-2.18.4-py2.py3-none-any.whl (88kB)\n",
      "\u001b[K    100% |████████████████████████████████| 92kB 2.3MB/s ta 0:00:011\n",
      "\u001b[?25hCollecting idna<2.7,>=2.5 (from requests->lightfm)\n",
      "  Downloading idna-2.6-py2.py3-none-any.whl (56kB)\n",
      "\u001b[K    100% |████████████████████████████████| 61kB 3.0MB/s ta 0:00:011\n",
      "\u001b[?25hCollecting certifi>=2017.4.17 (from requests->lightfm)\n",
      "  Downloading certifi-2017.7.27.1-py2.py3-none-any.whl (349kB)\n",
      "\u001b[K    100% |████████████████████████████████| 358kB 2.0MB/s ta 0:00:01\n",
      "\u001b[?25hCollecting chardet<3.1.0,>=3.0.2 (from requests->lightfm)\n",
      "  Using cached chardet-3.0.4-py2.py3-none-any.whl\n",
      "Collecting urllib3<1.23,>=1.21.1 (from requests->lightfm)\n",
      "  Downloading urllib3-1.22-py2.py3-none-any.whl (132kB)\n",
      "\u001b[K    100% |████████████████████████████████| 133kB 2.4MB/s ta 0:00:01\n",
      "\u001b[?25hBuilding wheels for collected packages: lightfm\n",
      "  Running setup.py bdist_wheel for lightfm ... \u001b[?25ldone\n",
      "\u001b[?25h  Stored in directory: /home/susma/.cache/pip/wheels/41/7f/ad/977586201a266b5ba45d6e4a80e1e1858171cfe0fd014e41d9\n",
      "Successfully built lightfm\n",
      "Installing collected packages: numpy, scipy, idna, certifi, chardet, urllib3, requests, lightfm\n",
      "Successfully installed certifi-2017.7.27.1 chardet-2.3.0 idna-2.0 lightfm-1.13 numpy-1.11.0 requests-2.9.1 scipy-0.17.0 urllib3-1.13.1\n",
      "\u001b[33mYou are using pip version 8.1.1, however version 9.0.1 is available.\n",
      "You should consider upgrading via the 'pip install --upgrade pip' command.\u001b[0m\n"
     ]
    }
   ],
   "source": [
    "!pip3 install lightfm"
   ]
  },
  {
   "cell_type": "code",
   "execution_count": 3,
   "metadata": {},
   "outputs": [
    {
     "ename": "ModuleNotFoundError",
     "evalue": "No module named 'lightfm'",
     "output_type": "error",
     "traceback": [
      "\u001b[0;31m---------------------------------------------------------------------------\u001b[0m",
      "\u001b[0;31mModuleNotFoundError\u001b[0m                       Traceback (most recent call last)",
      "\u001b[0;32m<ipython-input-3-f51bce98aea4>\u001b[0m in \u001b[0;36m<module>\u001b[0;34m()\u001b[0m\n\u001b[1;32m      1\u001b[0m \u001b[0;32mimport\u001b[0m \u001b[0mnumpy\u001b[0m \u001b[0;32mas\u001b[0m \u001b[0mnp\u001b[0m\u001b[0;34m\u001b[0m\u001b[0m\n\u001b[0;32m----> 2\u001b[0;31m \u001b[0;32mfrom\u001b[0m \u001b[0mlightfm\u001b[0m \u001b[0;32mimport\u001b[0m \u001b[0mLightFM\u001b[0m\u001b[0;34m\u001b[0m\u001b[0m\n\u001b[0m\u001b[1;32m      3\u001b[0m \u001b[0;32mfrom\u001b[0m \u001b[0mlightfm\u001b[0m\u001b[0;34m.\u001b[0m\u001b[0mdatasets\u001b[0m \u001b[0;32mimport\u001b[0m \u001b[0mfetch_movielens\u001b[0m\u001b[0;34m\u001b[0m\u001b[0m\n",
      "\u001b[0;31mModuleNotFoundError\u001b[0m: No module named 'lightfm'"
     ]
    }
   ],
   "source": [
    "import numpy as np\n",
    "from lightfm import LightFM\n",
    "from lightfm.datasets import fetch_movielens"
   ]
  },
  {
   "cell_type": "code",
   "execution_count": 2,
   "metadata": {},
   "outputs": [
    {
     "name": "stdout",
     "output_type": "stream",
     "text": [
      "Collecting lightfm\n",
      "\u001b[?25l  Downloading https://files.pythonhosted.org/packages/e9/8e/5485ac5a8616abe1c673d1e033e2f232b4319ab95424b42499fabff2257f/lightfm-1.15.tar.gz (302kB)\n",
      "\u001b[K    100% |████████████████████████████████| 307kB 442kB/s ta 0:00:01\n",
      "\u001b[?25hRequirement already satisfied: numpy in /home/susma/.local/lib/python3.5/site-packages (from lightfm) (1.14.5)\n",
      "Requirement already satisfied: scipy>=0.17.0 in /usr/lib/python3/dist-packages (from lightfm) (0.17.0)\n",
      "Requirement already satisfied: requests in /home/susma/.local/lib/python3.5/site-packages (from lightfm) (2.19.1)\n",
      "Requirement already satisfied: urllib3<1.24,>=1.21.1 in /home/susma/.local/lib/python3.5/site-packages (from requests->lightfm) (1.23)\n",
      "Requirement already satisfied: idna<2.8,>=2.5 in /home/susma/.local/lib/python3.5/site-packages (from requests->lightfm) (2.7)\n",
      "Requirement already satisfied: certifi>=2017.4.17 in /home/susma/.local/lib/python3.5/site-packages (from requests->lightfm) (2018.4.16)\n",
      "Requirement already satisfied: chardet<3.1.0,>=3.0.2 in /home/susma/.local/lib/python3.5/site-packages (from requests->lightfm) (3.0.4)\n",
      "Building wheels for collected packages: lightfm\n",
      "  Running setup.py bdist_wheel for lightfm ... \u001b[?25ldone\n",
      "\u001b[?25h  Stored in directory: /home/susma/.cache/pip/wheels/eb/bb/ac/188385a5da6627956be5d9663928483b36da576149ab5b8f79\n",
      "Successfully built lightfm\n",
      "\u001b[31mjupyter 1.0.0 requires ipykernel, which is not installed.\u001b[0m\n",
      "\u001b[31mjupyter 1.0.0 requires ipywidgets, which is not installed.\u001b[0m\n",
      "\u001b[31mjupyter 1.0.0 requires jupyter-console, which is not installed.\u001b[0m\n",
      "\u001b[31mjupyter 1.0.0 requires nbconvert, which is not installed.\u001b[0m\n",
      "\u001b[31mjupyter 1.0.0 requires notebook, which is not installed.\u001b[0m\n",
      "\u001b[31mjupyter 1.0.0 requires qtconsole, which is not installed.\u001b[0m\n",
      "Installing collected packages: lightfm\n",
      "\u001b[31mCould not install packages due to an EnvironmentError: [Errno 13] Permission denied: '/usr/local/lib/python3.5/dist-packages/lightfm'\n",
      "Consider using the `--user` option or check the permissions.\n",
      "\u001b[0m\n"
     ]
    }
   ],
   "source": [
    "!pip3 install lightfm"
   ]
  },
  {
   "cell_type": "code",
   "execution_count": null,
   "metadata": {
    "collapsed": true
   },
   "outputs": [],
   "source": [
    "#fetch data and format at\n",
    "data = fetch_movielens(min_rating = 4.0)\n",
    "#printing rating and testing data\n",
    "print(repr(data['train']))\n",
    "print(repr(data['test']))"
   ]
  },
  {
   "cell_type": "code",
   "execution_count": 21,
   "metadata": {},
   "outputs": [
    {
     "ename": "AssertionError",
     "evalue": "",
     "output_type": "error",
     "traceback": [
      "\u001b[0;31m---------------------------------------------------------------------------\u001b[0m",
      "\u001b[0;31mAssertionError\u001b[0m                            Traceback (most recent call last)",
      "\u001b[0;32m<ipython-input-21-b8c15d90c9be>\u001b[0m in \u001b[0;36m<module>\u001b[0;34m()\u001b[0m\n\u001b[1;32m      1\u001b[0m \u001b[0;31m#create model\u001b[0m\u001b[0;34m\u001b[0m\u001b[0;34m\u001b[0m\u001b[0m\n\u001b[0;32m----> 2\u001b[0;31m \u001b[0mmodel\u001b[0m\u001b[0;34m=\u001b[0m\u001b[0mLightFM\u001b[0m\u001b[0;34m(\u001b[0m\u001b[0mloss\u001b[0m\u001b[0;34m=\u001b[0m\u001b[0;34m'wrap'\u001b[0m\u001b[0;34m)\u001b[0m\u001b[0;34m\u001b[0m\u001b[0m\n\u001b[0m",
      "\u001b[0;32m/home/susma/anaconda3/lib/python3.6/site-packages/lightfm/lightfm.py\u001b[0m in \u001b[0;36m__init__\u001b[0;34m(self, no_components, k, n, learning_schedule, loss, learning_rate, rho, epsilon, item_alpha, user_alpha, max_sampled, random_state)\u001b[0m\n\u001b[1;32m    132\u001b[0m         \u001b[0;32massert\u001b[0m \u001b[0mepsilon\u001b[0m \u001b[0;34m>=\u001b[0m \u001b[0;36m0\u001b[0m\u001b[0;34m\u001b[0m\u001b[0m\n\u001b[1;32m    133\u001b[0m         \u001b[0;32massert\u001b[0m \u001b[0mlearning_schedule\u001b[0m \u001b[0;32min\u001b[0m \u001b[0;34m(\u001b[0m\u001b[0;34m'adagrad'\u001b[0m\u001b[0;34m,\u001b[0m \u001b[0;34m'adadelta'\u001b[0m\u001b[0;34m)\u001b[0m\u001b[0;34m\u001b[0m\u001b[0m\n\u001b[0;32m--> 134\u001b[0;31m         \u001b[0;32massert\u001b[0m \u001b[0mloss\u001b[0m \u001b[0;32min\u001b[0m \u001b[0;34m(\u001b[0m\u001b[0;34m'logistic'\u001b[0m\u001b[0;34m,\u001b[0m \u001b[0;34m'warp'\u001b[0m\u001b[0;34m,\u001b[0m \u001b[0;34m'bpr'\u001b[0m\u001b[0;34m,\u001b[0m \u001b[0;34m'warp-kos'\u001b[0m\u001b[0;34m)\u001b[0m\u001b[0;34m\u001b[0m\u001b[0m\n\u001b[0m\u001b[1;32m    135\u001b[0m \u001b[0;34m\u001b[0m\u001b[0m\n\u001b[1;32m    136\u001b[0m         \u001b[0;32mif\u001b[0m \u001b[0mmax_sampled\u001b[0m \u001b[0;34m<\u001b[0m \u001b[0;36m1\u001b[0m\u001b[0;34m:\u001b[0m\u001b[0;34m\u001b[0m\u001b[0m\n",
      "\u001b[0;31mAssertionError\u001b[0m: "
     ]
    }
   ],
   "source": [
    "#create model\n",
    "model=LightFM(loss='wrap')\n"
   ]
  },
  {
   "cell_type": "code",
   "execution_count": 16,
   "metadata": {},
   "outputs": [
    {
     "ename": "NameError",
     "evalue": "name 'model' is not defined",
     "output_type": "error",
     "traceback": [
      "\u001b[0;31m---------------------------------------------------------------------------\u001b[0m",
      "\u001b[0;31mNameError\u001b[0m                                 Traceback (most recent call last)",
      "\u001b[0;32m<ipython-input-16-23594ead3801>\u001b[0m in \u001b[0;36m<module>\u001b[0;34m()\u001b[0m\n\u001b[1;32m      1\u001b[0m \u001b[0;31m# train model\u001b[0m\u001b[0;34m\u001b[0m\u001b[0;34m\u001b[0m\u001b[0m\n\u001b[0;32m----> 2\u001b[0;31m \u001b[0mmodel\u001b[0m\u001b[0;34m.\u001b[0m\u001b[0mfit\u001b[0m\u001b[0;34m(\u001b[0m\u001b[0mdata\u001b[0m\u001b[0;34m[\u001b[0m\u001b[0;34m'train'\u001b[0m\u001b[0;34m]\u001b[0m\u001b[0;34m,\u001b[0m \u001b[0mepochs\u001b[0m\u001b[0;34m=\u001b[0m\u001b[0;36m30\u001b[0m\u001b[0;34m,\u001b[0m \u001b[0mnum_threads\u001b[0m \u001b[0;34m=\u001b[0m \u001b[0;36m2\u001b[0m\u001b[0;34m)\u001b[0m\u001b[0;34m\u001b[0m\u001b[0m\n\u001b[0m",
      "\u001b[0;31mNameError\u001b[0m: name 'model' is not defined"
     ]
    }
   ],
   "source": [
    "# train model\n",
    "model.fit(data['train'], epochs=30, num_threads = 2)"
   ]
  },
  {
   "cell_type": "code",
   "execution_count": null,
   "metadata": {
    "collapsed": true
   },
   "outputs": [],
   "source": []
  }
 ],
 "metadata": {
  "kernelspec": {
   "display_name": "Python 3",
   "language": "python",
   "name": "python3"
  },
  "language_info": {
   "codemirror_mode": {
    "name": "ipython",
    "version": 3
   },
   "file_extension": ".py",
   "mimetype": "text/x-python",
   "name": "python",
   "nbconvert_exporter": "python",
   "pygments_lexer": "ipython3",
   "version": "3.6.3"
  }
 },
 "nbformat": 4,
 "nbformat_minor": 2
}
