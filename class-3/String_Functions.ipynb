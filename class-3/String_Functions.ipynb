{
 "cells": [
  {
   "cell_type": "markdown",
   "metadata": {},
   "source": [
    "The following functions are used to perform vectorized string operations for arrays of dtype <b>numpy.string_ or numpy.unicode_.</b> They are based on the standard string functions in Python's built-in library."
   ]
  },
  {
   "cell_type": "markdown",
   "metadata": {},
   "source": [
    "### Function & Description"
   ]
  },
  {
   "cell_type": "markdown",
   "metadata": {},
   "source": [
    "add() :Returns element-wise string concatenation for two arrays of str or Unicode\n",
    "    \n",
    "multiply() : Returns the string with multiple concatenation, element-wise\n",
    "    \n",
    "center() : Returns a copy of the given string with elements centered in a string of specified length\n",
    "    \n",
    "capitalize() :Returns a copy of the string with only the first character capitalized\n",
    "    \n",
    "title() :Returns the element-wise title cased version of the string or unicode\n",
    "    \n",
    "lower() :Returns an array with the elements converted to lowercase\n",
    "    \n",
    "upper() :Returns an array with the elements converted to uppercase\n",
    "    \n",
    "split() :Returns a list of the words in the string, using separatordelimiter\n",
    "    \n",
    "splitlines() :Returns a list of the lines in the element, breaking at the line boundaries\n",
    "    \n",
    "strip() :Returns a copy with the leading and trailing characters removed\n",
    "    \n",
    "join() : Returns a string which is the concatenation of the strings in the sequence\n",
    "    \n",
    "replace() :Returns a copy of the string with all occurrences of substring replaced by the new string\n",
    "    \n",
    "decode() : Calls str.decode element-wise\n",
    "    \n",
    "encode() :Calls str.encode element-wise"
   ]
  },
  {
   "cell_type": "code",
   "execution_count": null,
   "metadata": {
    "collapsed": true
   },
   "outputs": [],
   "source": []
  }
 ],
 "metadata": {
  "kernelspec": {
   "display_name": "Python 3",
   "language": "python",
   "name": "python3"
  },
  "language_info": {
   "codemirror_mode": {
    "name": "ipython",
    "version": 3
   },
   "file_extension": ".py",
   "mimetype": "text/x-python",
   "name": "python",
   "nbconvert_exporter": "python",
   "pygments_lexer": "ipython3",
   "version": "3.5.2"
  }
 },
 "nbformat": 4,
 "nbformat_minor": 1
}
