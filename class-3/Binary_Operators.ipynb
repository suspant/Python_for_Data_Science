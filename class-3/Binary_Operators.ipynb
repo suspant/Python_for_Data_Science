{
 "cells": [
  {
   "cell_type": "markdown",
   "metadata": {},
   "source": [
    "### Binary Operators\n",
    "Following are the functions for bitwise operations available in NumPy packag"
   ]
  },
  {
   "cell_type": "markdown",
   "metadata": {},
   "source": [
    "bitwise_and :Computes bitwise AND operation of array elements\n",
    "    \n",
    "bitwise_or :Computes bitwise OR operation of array elements\n",
    "    \n",
    "invert :Computes bitwise NOT\n",
    "    \n",
    "left_shift :Shifts bits of a binary representation to the left\n",
    "    \n",
    "right_shift : Shifts bits of binary representation to the right"
   ]
  },
  {
   "cell_type": "code",
   "execution_count": null,
   "metadata": {
    "collapsed": true
   },
   "outputs": [],
   "source": []
  }
 ],
 "metadata": {
  "kernelspec": {
   "display_name": "Python 3",
   "language": "python",
   "name": "python3"
  },
  "language_info": {
   "codemirror_mode": {
    "name": "ipython",
    "version": 3
   },
   "file_extension": ".py",
   "mimetype": "text/x-python",
   "name": "python",
   "nbconvert_exporter": "python",
   "pygments_lexer": "ipython3",
   "version": "3.5.2"
  }
 },
 "nbformat": 4,
 "nbformat_minor": 1
}
