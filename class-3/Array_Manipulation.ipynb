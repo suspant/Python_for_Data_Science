{
 "cells": [
  {
   "cell_type": "markdown",
   "metadata": {},
   "source": [
    "### Changing Shape\n",
    "<b>Shape & Description</b>\n",
    "\n",
    "reshape :Gives a new shape to an array without changing its data\n",
    "\n",
    "flat :1-D iterator over the array\n",
    "\n",
    "flatten :Returns a copy of the array collapsed into one dimension\n",
    "\n",
    "ravel :Returns a contiguous flattened array"
   ]
  },
  {
   "cell_type": "markdown",
   "metadata": {},
   "source": [
    "### Transpose Operations\n",
    "\n",
    "transpose:Permutes the dimensions of an array\n",
    "\n",
    "ndarray.T :Same as self.transpose()\n",
    "\n",
    "rollaxis:Rolls the specified axis backwards\n",
    "\n",
    "swapaxes:Interchanges the two axes of an array"
   ]
  },
  {
   "cell_type": "markdown",
   "metadata": {},
   "source": [
    "### Changing Dimensions\n",
    "\n",
    "broadcast:Produces an object that mimics broadcasting\n",
    "\n",
    "broadcast_to :Broadcasts an array to a new shape\n",
    "    \n",
    "expand_dims :Expands the shape of an array\n",
    "    \n",
    "squeeze :Removes single-dimensional entries from the shape of an array"
   ]
  },
  {
   "cell_type": "markdown",
   "metadata": {},
   "source": [
    "### Joining Arrays\n",
    "\n",
    "concatenate : Joins a sequence of arrays along an existing axis\n",
    "    \n",
    "stack : Joins a sequence of arrays along a new axis\n",
    "    \n",
    "hstack : Stacks arrays in sequence horizontally (column wise)\n",
    "\n",
    "vstack : Stacks arrays in sequence vertically (row wise)"
   ]
  },
  {
   "cell_type": "markdown",
   "metadata": {},
   "source": [
    "### Splitting Arrays\n",
    "\n",
    "Split  : Splits an array into multiple sub-arrays\n",
    "    \n",
    "hsplit : Splits an array into multiple sub-arrays horizontally (column-wise)\n",
    "    \n",
    "vsplit : Splits an array into multiple sub-arrays vertically (row-wise)   \n"
   ]
  },
  {
   "cell_type": "markdown",
   "metadata": {},
   "source": [
    "### Adding / Removing Elements\n",
    "\n",
    "resize :Returns a new array with the specified shape\n",
    "    \n",
    "append :Appends the values to the end of an array\n",
    "    \n",
    "insert :Inserts the values along the given axis before the given indices\n",
    "    \n",
    "delete :Returns a new array with sub-arrays along an axis deleted\n",
    "    \n",
    "unique :Finds the unique elements of an array"
   ]
  },
  {
   "cell_type": "code",
   "execution_count": null,
   "metadata": {
    "collapsed": true
   },
   "outputs": [],
   "source": []
  }
 ],
 "metadata": {
  "kernelspec": {
   "display_name": "Python 3",
   "language": "python",
   "name": "python3"
  },
  "language_info": {
   "codemirror_mode": {
    "name": "ipython",
    "version": 3
   },
   "file_extension": ".py",
   "mimetype": "text/x-python",
   "name": "python",
   "nbconvert_exporter": "python",
   "pygments_lexer": "ipython3",
   "version": "3.5.2"
  }
 },
 "nbformat": 4,
 "nbformat_minor": 1
}
