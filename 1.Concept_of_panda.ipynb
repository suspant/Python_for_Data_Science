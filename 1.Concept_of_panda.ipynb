{
 "cells": [
  {
   "cell_type": "markdown",
   "metadata": {},
   "source": [
    "\n",
    "\n",
    "pandas is an open-source library that provides high-performance, easy-to-use data structures and data analysis tools. While Python has excellent capabilities for data manipulation and data preparation, pandas adds data analysis and modeling tools so that users can perform entire data science workflows. Python with Pandas is used in a wide range of fields including academic and commercial domains including finance, economics, Statistics, analytics, etc.\n"
   ]
  },
  {
   "cell_type": "markdown",
   "metadata": {},
   "source": [
    "### Prerequisites\n",
    "A basic understanding of any of the programming languages is a plus. Pandas library uses most of the functionalities of NumPy. It is suggested that we go through first on NumPy before proceeding with this tutorial."
   ]
  },
  {
   "cell_type": "markdown",
   "metadata": {},
   "source": [
    "\n",
    "Using Pandas, we can accomplish five typical steps in the processing and analysis of data, regardless of the origin of data — load, prepare, manipulate, model, and analyze."
   ]
  },
  {
   "cell_type": "markdown",
   "metadata": {},
   "source": [
    "### Key Features of Pandas\n",
    "\n",
    "    -Fast and efficient DataFrame object with default and customized indexing.\n",
    "    -Tools for loading data into in-memory data objects from different file formats.\n",
    "    -Data alignment and integrated handling of missing data.\n",
    "    -Reshaping and pivoting of date sets.\n",
    "    -Label-based slicing, indexing and subsetting of large data sets.\n",
    "    -Columns from a data structure can be deleted or inserted.\n",
    "    -Group by data for aggregation and transformations.\n",
    "    -High performance merging and joining of data.\n",
    "    -Time Series functionality.\n"
   ]
  },
  {
   "cell_type": "markdown",
   "metadata": {},
   "source": [
    "### Package managers of respective Linux distributions are used to install one or more packages in SciPy stack.\n",
    "\n",
    "sudo apt-get install python-numpy python-scipy python-matplotlibi\n",
    "python-pandas python-sympy python-nose"
   ]
  },
  {
   "cell_type": "markdown",
   "metadata": {},
   "source": [
    "Pandas deals with the following three data structures \n",
    "    -Series\n",
    "    -DataFrame\n",
    "    -Panel"
   ]
  },
  {
   "cell_type": "markdown",
   "metadata": {},
   "source": [
    "### Dimension & Description \n",
    "Data stucture\n",
    "\n",
    "Series(1D) : 1D labeled homogeneous array, sizeimmutable.\n",
    "Series is a one-dimensional array like structure with homogeneous data. For example, the following series is a collection of integers 10, 23, 56, ....\n",
    "\n",
    "<b>Key Points</b>\n",
    "\n",
    "    Homogeneous data\n",
    "    Size Immutable\n",
    "    Values of Data Mutable\n",
    "\n",
    "\n",
    "Data Frames : General 2D labeled, size-mutable tabular structure with potentially heterogeneously typed columns.DataFrame is a two-dimensional array with heterogeneous data.For example table data.The data is represented in rows and columns.\n",
    "\n",
    "<b>Key Points</b>\n",
    "\n",
    "    Heterogeneous data\n",
    "    Size Mutable\n",
    "    Data Mutable\n",
    "\n",
    "\n",
    "Panel : General 3D labeled, size-mutable array.Panel is a three-dimensional data structure with heterogeneous data. It is hard to represent the panel in graphical representation. But a panel can be illustrated as a container of DataFrame. \n",
    "\n",
    "<b>Key Points</b>\n",
    "\n",
    "    Heterogeneous data\n",
    "    Size Mutable\n",
    "    Data Mutable\n"
   ]
  },
  {
   "cell_type": "markdown",
   "metadata": {},
   "source": [
    "### Mutability\n",
    "\n",
    "All Pandas data structures are value mutable (can be changed) and except Series all are size mutable. Series is size immutable.\n",
    "\n",
    "Note − DataFrame is widely used and one of the most important data structures. Panel is used much less."
   ]
  },
  {
   "cell_type": "code",
   "execution_count": null,
   "metadata": {
    "collapsed": true
   },
   "outputs": [],
   "source": []
  }
 ],
 "metadata": {
  "kernelspec": {
   "display_name": "Python 3",
   "language": "python",
   "name": "python3"
  },
  "language_info": {
   "codemirror_mode": {
    "name": "ipython",
    "version": 3
   },
   "file_extension": ".py",
   "mimetype": "text/x-python",
   "name": "python",
   "nbconvert_exporter": "python",
   "pygments_lexer": "ipython3",
   "version": "3.6.3"
  }
 },
 "nbformat": 4,
 "nbformat_minor": 1
}
